{
 "cells": [
  {
   "cell_type": "code",
   "execution_count": 1,
   "id": "ff6d8c66",
   "metadata": {
    "_cell_guid": "b1076dfc-b9ad-4769-8c92-a6c4dae69d19",
    "_uuid": "8f2839f25d086af736a60e9eeb907d3b93b6e0e5",
    "execution": {
     "iopub.execute_input": "2025-04-06T09:09:25.647275Z",
     "iopub.status.busy": "2025-04-06T09:09:25.647009Z",
     "iopub.status.idle": "2025-04-06T09:09:26.884433Z",
     "shell.execute_reply": "2025-04-06T09:09:26.883743Z"
    },
    "papermill": {
     "duration": 1.24581,
     "end_time": "2025-04-06T09:09:26.886013",
     "exception": false,
     "start_time": "2025-04-06T09:09:25.640203",
     "status": "completed"
    },
    "tags": []
   },
   "outputs": [],
   "source": [
    "# This Python 3 environment comes with many helpful analytics libraries installed\n",
    "# It is defined by the kaggle/python Docker image: https://github.com/kaggle/docker-python\n",
    "# For example, here's several helpful packages to load\n",
    "\n",
    "import numpy as np # linear algebra\n",
    "import pandas as pd # data processing, CSV file I/O (e.g. pd.read_csv)\n",
    "\n",
    "# Input data files are available in the read-only \"../input/\" directory\n",
    "# For example, running this (by clicking run or pressing Shift+Enter) will list all files under the input directory\n",
    "\n",
    "import os\n",
    "for dirname, _, filenames in os.walk('/kaggle/input'):\n",
    "    for filename in filenames:\n",
    "        print(os.path.join(dirname, filename))\n",
    "\n",
    "# You can write up to 20GB to the current directory (/kaggle/working/) that gets preserved as output when you create a version using \"Save & Run All\" \n",
    "# You can also write temporary files to /kaggle/temp/, but they won't be saved outside of the current session"
   ]
  },
  {
   "cell_type": "markdown",
   "id": "31687574",
   "metadata": {
    "papermill": {
     "duration": 0.005139,
     "end_time": "2025-04-06T09:09:26.896895",
     "exception": false,
     "start_time": "2025-04-06T09:09:26.891756",
     "status": "completed"
    },
    "tags": []
   },
   "source": [
    "## Loading the data & split it to train and test:"
   ]
  },
  {
   "cell_type": "code",
   "execution_count": 2,
   "id": "ef816937",
   "metadata": {
    "execution": {
     "iopub.execute_input": "2025-04-06T09:09:26.908295Z",
     "iopub.status.busy": "2025-04-06T09:09:26.907955Z",
     "iopub.status.idle": "2025-04-06T09:09:48.857951Z",
     "shell.execute_reply": "2025-04-06T09:09:48.856947Z"
    },
    "papermill": {
     "duration": 21.957164,
     "end_time": "2025-04-06T09:09:48.859584",
     "exception": false,
     "start_time": "2025-04-06T09:09:26.902420",
     "status": "completed"
    },
    "tags": []
   },
   "outputs": [
    {
     "name": "stdout",
     "output_type": "stream",
     "text": [
      "Downloading data from https://www.cs.toronto.edu/~kriz/cifar-10-python.tar.gz\n",
      "\u001b[1m170498071/170498071\u001b[0m \u001b[32m━━━━━━━━━━━━━━━━━━━━\u001b[0m\u001b[37m\u001b[0m \u001b[1m3s\u001b[0m 0us/step\n"
     ]
    }
   ],
   "source": [
    "import tensorflow as tf\n",
    "\n",
    "# Load CIFAR-10\n",
    "(x_train, y_train), (x_test, y_test) = tf.keras.datasets.cifar10.load_data()"
   ]
  },
  {
   "cell_type": "code",
   "execution_count": 3,
   "id": "a692e77b",
   "metadata": {
    "execution": {
     "iopub.execute_input": "2025-04-06T09:09:48.876997Z",
     "iopub.status.busy": "2025-04-06T09:09:48.876500Z",
     "iopub.status.idle": "2025-04-06T09:09:48.881945Z",
     "shell.execute_reply": "2025-04-06T09:09:48.881291Z"
    },
    "papermill": {
     "duration": 0.015232,
     "end_time": "2025-04-06T09:09:48.883234",
     "exception": false,
     "start_time": "2025-04-06T09:09:48.868002",
     "status": "completed"
    },
    "tags": []
   },
   "outputs": [
    {
     "data": {
      "text/plain": [
       "(50000, 10000)"
      ]
     },
     "execution_count": 3,
     "metadata": {},
     "output_type": "execute_result"
    }
   ],
   "source": [
    "len(x_train), len(x_test)"
   ]
  },
  {
   "cell_type": "code",
   "execution_count": 4,
   "id": "77cf2c78",
   "metadata": {
    "execution": {
     "iopub.execute_input": "2025-04-06T09:09:48.899451Z",
     "iopub.status.busy": "2025-04-06T09:09:48.899228Z",
     "iopub.status.idle": "2025-04-06T09:09:48.906322Z",
     "shell.execute_reply": "2025-04-06T09:09:48.905556Z"
    },
    "papermill": {
     "duration": 0.016473,
     "end_time": "2025-04-06T09:09:48.907486",
     "exception": false,
     "start_time": "2025-04-06T09:09:48.891013",
     "status": "completed"
    },
    "tags": []
   },
   "outputs": [
    {
     "data": {
      "text/plain": [
       "array([[[ 59,  62,  63],\n",
       "        [ 43,  46,  45],\n",
       "        [ 50,  48,  43],\n",
       "        ...,\n",
       "        [158, 132, 108],\n",
       "        [152, 125, 102],\n",
       "        [148, 124, 103]],\n",
       "\n",
       "       [[ 16,  20,  20],\n",
       "        [  0,   0,   0],\n",
       "        [ 18,   8,   0],\n",
       "        ...,\n",
       "        [123,  88,  55],\n",
       "        [119,  83,  50],\n",
       "        [122,  87,  57]],\n",
       "\n",
       "       [[ 25,  24,  21],\n",
       "        [ 16,   7,   0],\n",
       "        [ 49,  27,   8],\n",
       "        ...,\n",
       "        [118,  84,  50],\n",
       "        [120,  84,  50],\n",
       "        [109,  73,  42]],\n",
       "\n",
       "       ...,\n",
       "\n",
       "       [[208, 170,  96],\n",
       "        [201, 153,  34],\n",
       "        [198, 161,  26],\n",
       "        ...,\n",
       "        [160, 133,  70],\n",
       "        [ 56,  31,   7],\n",
       "        [ 53,  34,  20]],\n",
       "\n",
       "       [[180, 139,  96],\n",
       "        [173, 123,  42],\n",
       "        [186, 144,  30],\n",
       "        ...,\n",
       "        [184, 148,  94],\n",
       "        [ 97,  62,  34],\n",
       "        [ 83,  53,  34]],\n",
       "\n",
       "       [[177, 144, 116],\n",
       "        [168, 129,  94],\n",
       "        [179, 142,  87],\n",
       "        ...,\n",
       "        [216, 184, 140],\n",
       "        [151, 118,  84],\n",
       "        [123,  92,  72]]], dtype=uint8)"
      ]
     },
     "execution_count": 4,
     "metadata": {},
     "output_type": "execute_result"
    }
   ],
   "source": [
    "# print first train image\n",
    "x_train[0]"
   ]
  },
  {
   "cell_type": "code",
   "execution_count": 5,
   "id": "151bbb7b",
   "metadata": {
    "execution": {
     "iopub.execute_input": "2025-04-06T09:09:48.924494Z",
     "iopub.status.busy": "2025-04-06T09:09:48.924300Z",
     "iopub.status.idle": "2025-04-06T09:09:48.927384Z",
     "shell.execute_reply": "2025-04-06T09:09:48.926847Z"
    },
    "papermill": {
     "duration": 0.012606,
     "end_time": "2025-04-06T09:09:48.928459",
     "exception": false,
     "start_time": "2025-04-06T09:09:48.915853",
     "status": "completed"
    },
    "tags": []
   },
   "outputs": [],
   "source": [
    "# creatte a function to show any image I want\n",
    "\n",
    "import matplotlib.pyplot as plt\n",
    "\n",
    "\n",
    "def show_image(i):\n",
    "    plt.imshow(x_train[i])\n",
    "    plt.title(y_train[i])\n",
    "    plt.show()"
   ]
  },
  {
   "cell_type": "code",
   "execution_count": 6,
   "id": "49ebe402",
   "metadata": {
    "execution": {
     "iopub.execute_input": "2025-04-06T09:09:48.944900Z",
     "iopub.status.busy": "2025-04-06T09:09:48.944687Z",
     "iopub.status.idle": "2025-04-06T09:09:49.218413Z",
     "shell.execute_reply": "2025-04-06T09:09:49.217628Z"
    },
    "papermill": {
     "duration": 0.283479,
     "end_time": "2025-04-06T09:09:49.219723",
     "exception": false,
     "start_time": "2025-04-06T09:09:48.936244",
     "status": "completed"
    },
    "tags": []
   },
   "outputs": [
    {
     "data": {
      "image/png": "[encoded data removed]",
      "text/plain": [
       "<Figure size 640x480 with 1 Axes>"
      ]
     },
     "metadata": {},
     "output_type": "display_data"
    }
   ],
   "source": [
    "show_image(0)"
   ]
  },
  {
   "cell_type": "code",
   "execution_count": 7,
   "id": "bd77142a",
   "metadata": {
    "execution": {
     "iopub.execute_input": "2025-04-06T09:09:49.237988Z",
     "iopub.status.busy": "2025-04-06T09:09:49.237702Z",
     "iopub.status.idle": "2025-04-06T09:09:49.417765Z",
     "shell.execute_reply": "2025-04-06T09:09:49.416788Z"
    },
    "papermill": {
     "duration": 0.191028,
     "end_time": "2025-04-06T09:09:49.419498",
     "exception": false,
     "start_time": "2025-04-06T09:09:49.228470",
     "status": "completed"
    },
    "tags": []
   },
   "outputs": [
    {
     "data": {
      "image/png": "[encoded data removed]",
      "text/plain": [
       "<Figure size 640x480 with 1 Axes>"
      ]
     },
     "metadata": {},
     "output_type": "display_data"
    }
   ],
   "source": [
    "show_image(1000)"
   ]
  },
  {
   "cell_type": "code",
   "execution_count": 8,
   "id": "1e52f202",
   "metadata": {
    "execution": {
     "iopub.execute_input": "2025-04-06T09:09:49.452980Z",
     "iopub.status.busy": "2025-04-06T09:09:49.452654Z",
     "iopub.status.idle": "2025-04-06T09:09:49.634917Z",
     "shell.execute_reply": "2025-04-06T09:09:49.633901Z"
    },
    "papermill": {
     "duration": 0.200188,
     "end_time": "2025-04-06T09:09:49.636374",
     "exception": false,
     "start_time": "2025-04-06T09:09:49.436186",
     "status": "completed"
    },
    "tags": []
   },
   "outputs": [
    {
     "data": {
      "image/png": "[encoded data removed]",
      "text/plain": [
       "<Figure size 640x480 with 1 Axes>"
      ]
     },
     "metadata": {},
     "output_type": "display_data"
    }
   ],
   "source": [
    "show_image(100)"
   ]
  },
  {
   "cell_type": "code",
   "execution_count": 9,
   "id": "37c5430e",
   "metadata": {
    "execution": {
     "iopub.execute_input": "2025-04-06T09:09:49.656037Z",
     "iopub.status.busy": "2025-04-06T09:09:49.655674Z",
     "iopub.status.idle": "2025-04-06T09:09:49.845492Z",
     "shell.execute_reply": "2025-04-06T09:09:49.844651Z"
    },
    "papermill": {
     "duration": 0.201365,
     "end_time": "2025-04-06T09:09:49.847303",
     "exception": false,
     "start_time": "2025-04-06T09:09:49.645938",
     "status": "completed"
    },
    "tags": []
   },
   "outputs": [
    {
     "data": {
      "image/png": "[encoded data removed]",
      "text/plain": [
       "<Figure size 640x480 with 1 Axes>"
      ]
     },
     "metadata": {},
     "output_type": "display_data"
    }
   ],
   "source": [
    "show_image(1)"
   ]
  },
  {
   "cell_type": "code",
   "execution_count": 10,
   "id": "c837b207",
   "metadata": {
    "execution": {
     "iopub.execute_input": "2025-04-06T09:09:49.878947Z",
     "iopub.status.busy": "2025-04-06T09:09:49.878538Z",
     "iopub.status.idle": "2025-04-06T09:09:49.882715Z",
     "shell.execute_reply": "2025-04-06T09:09:49.881925Z"
    },
    "papermill": {
     "duration": 0.017818,
     "end_time": "2025-04-06T09:09:49.884114",
     "exception": false,
     "start_time": "2025-04-06T09:09:49.866296",
     "status": "completed"
    },
    "tags": []
   },
   "outputs": [],
   "source": [
    "classes = ['', 'airplane', 'automobile', 'bird', 'cat', 'dog',\n",
    "            'frog', 'horse', 'ship', 'truck']"
   ]
  },
  {
   "cell_type": "code",
   "execution_count": 11,
   "id": "592824c9",
   "metadata": {
    "execution": {
     "iopub.execute_input": "2025-04-06T09:09:49.904582Z",
     "iopub.status.busy": "2025-04-06T09:09:49.904243Z",
     "iopub.status.idle": "2025-04-06T09:09:49.909572Z",
     "shell.execute_reply": "2025-04-06T09:09:49.908817Z"
    },
    "papermill": {
     "duration": 0.017088,
     "end_time": "2025-04-06T09:09:49.910881",
     "exception": false,
     "start_time": "2025-04-06T09:09:49.893793",
     "status": "completed"
    },
    "tags": []
   },
   "outputs": [
    {
     "data": {
      "text/plain": [
       "dtype('uint8')"
      ]
     },
     "execution_count": 11,
     "metadata": {},
     "output_type": "execute_result"
    }
   ],
   "source": [
    "y_train.dtype"
   ]
  },
  {
   "cell_type": "code",
   "execution_count": 12,
   "id": "6f0d083a",
   "metadata": {
    "execution": {
     "iopub.execute_input": "2025-04-06T09:09:49.931268Z",
     "iopub.status.busy": "2025-04-06T09:09:49.930919Z",
     "iopub.status.idle": "2025-04-06T09:09:49.936718Z",
     "shell.execute_reply": "2025-04-06T09:09:49.935902Z"
    },
    "papermill": {
     "duration": 0.017584,
     "end_time": "2025-04-06T09:09:49.938177",
     "exception": false,
     "start_time": "2025-04-06T09:09:49.920593",
     "status": "completed"
    },
    "tags": []
   },
   "outputs": [
    {
     "data": {
      "text/plain": [
       "array([[6],\n",
       "       [9],\n",
       "       [9],\n",
       "       [4],\n",
       "       [1]], dtype=uint8)"
      ]
     },
     "execution_count": 12,
     "metadata": {},
     "output_type": "execute_result"
    }
   ],
   "source": [
    "y_train[:5]"
   ]
  },
  {
   "cell_type": "code",
   "execution_count": 13,
   "id": "23e846bc",
   "metadata": {
    "execution": {
     "iopub.execute_input": "2025-04-06T09:09:49.958495Z",
     "iopub.status.busy": "2025-04-06T09:09:49.958134Z",
     "iopub.status.idle": "2025-04-06T09:09:49.964154Z",
     "shell.execute_reply": "2025-04-06T09:09:49.963306Z"
    },
    "papermill": {
     "duration": 0.01827,
     "end_time": "2025-04-06T09:09:49.965876",
     "exception": false,
     "start_time": "2025-04-06T09:09:49.947606",
     "status": "completed"
    },
    "tags": []
   },
   "outputs": [
    {
     "data": {
      "text/plain": [
       "(6, 4, 9)"
      ]
     },
     "execution_count": 13,
     "metadata": {},
     "output_type": "execute_result"
    }
   ],
   "source": [
    "y_train[0][0], y_train[3][0], y_train[1000][0]"
   ]
  },
  {
   "cell_type": "code",
   "execution_count": 14,
   "id": "376e3eac",
   "metadata": {
    "execution": {
     "iopub.execute_input": "2025-04-06T09:09:49.991700Z",
     "iopub.status.busy": "2025-04-06T09:09:49.991447Z",
     "iopub.status.idle": "2025-04-06T09:09:49.996543Z",
     "shell.execute_reply": "2025-04-06T09:09:49.995758Z"
    },
    "papermill": {
     "duration": 0.017162,
     "end_time": "2025-04-06T09:09:49.997921",
     "exception": false,
     "start_time": "2025-04-06T09:09:49.980759",
     "status": "completed"
    },
    "tags": []
   },
   "outputs": [
    {
     "data": {
      "text/plain": [
       "('ship', 'frog')"
      ]
     },
     "execution_count": 14,
     "metadata": {},
     "output_type": "execute_result"
    }
   ],
   "source": [
    "classes[y_train[100][0]], classes[y_train[0][0]]"
   ]
  },
  {
   "cell_type": "code",
   "execution_count": 15,
   "id": "93db3e0d",
   "metadata": {
    "execution": {
     "iopub.execute_input": "2025-04-06T09:09:50.019035Z",
     "iopub.status.busy": "2025-04-06T09:09:50.018742Z",
     "iopub.status.idle": "2025-04-06T09:09:50.021949Z",
     "shell.execute_reply": "2025-04-06T09:09:50.021159Z"
    },
    "papermill": {
     "duration": 0.015636,
     "end_time": "2025-04-06T09:09:50.023503",
     "exception": false,
     "start_time": "2025-04-06T09:09:50.007867",
     "status": "completed"
    },
    "tags": []
   },
   "outputs": [],
   "source": [
    "# from tensorflow import keras\n",
    "\n",
    "# y_train_cat = keras.utils.to_categorical(\n",
    "#     y_train, num_classes = 10\n",
    "# )"
   ]
  },
  {
   "cell_type": "code",
   "execution_count": 16,
   "id": "020472dc",
   "metadata": {
    "execution": {
     "iopub.execute_input": "2025-04-06T09:09:50.050300Z",
     "iopub.status.busy": "2025-04-06T09:09:50.050051Z",
     "iopub.status.idle": "2025-04-06T09:09:50.053098Z",
     "shell.execute_reply": "2025-04-06T09:09:50.052290Z"
    },
    "papermill": {
     "duration": 0.014125,
     "end_time": "2025-04-06T09:09:50.054378",
     "exception": false,
     "start_time": "2025-04-06T09:09:50.040253",
     "status": "completed"
    },
    "tags": []
   },
   "outputs": [],
   "source": [
    "# y_train, y_train.dtype"
   ]
  },
  {
   "cell_type": "markdown",
   "id": "93da1735",
   "metadata": {
    "papermill": {
     "duration": 0.009044,
     "end_time": "2025-04-06T09:09:50.072785",
     "exception": false,
     "start_time": "2025-04-06T09:09:50.063741",
     "status": "completed"
    },
    "tags": []
   },
   "source": [
    "## Build a model using ResNet18 with freeze a base layer:"
   ]
  },
  {
   "cell_type": "code",
   "execution_count": 17,
   "id": "cfd2e3f1",
   "metadata": {
    "execution": {
     "iopub.execute_input": "2025-04-06T09:09:50.092390Z",
     "iopub.status.busy": "2025-04-06T09:09:50.092192Z",
     "iopub.status.idle": "2025-04-06T09:09:54.911702Z",
     "shell.execute_reply": "2025-04-06T09:09:54.910745Z"
    },
    "papermill": {
     "duration": 4.831094,
     "end_time": "2025-04-06T09:09:54.913355",
     "exception": false,
     "start_time": "2025-04-06T09:09:50.082261",
     "status": "completed"
    },
    "tags": []
   },
   "outputs": [
    {
     "name": "stdout",
     "output_type": "stream",
     "text": [
      "Downloading data from https://storage.googleapis.com/tensorflow/keras-applications/resnet/resnet50_weights_tf_dim_ordering_tf_kernels_notop.h5\n",
      "\u001b[1m94765736/94765736\u001b[0m \u001b[32m━━━━━━━━━━━━━━━━━━━━\u001b[0m\u001b[37m\u001b[0m \u001b[1m0s\u001b[0m 0us/step\n"
     ]
    }
   ],
   "source": [
    "# to use ResNet18 we must use ResNet50 and configure it to behave like ResNet18\n",
    "\n",
    "from tensorflow.keras.applications import ResNet50\n",
    "\n",
    "base_model = ResNet50(weights='imagenet', include_top=False, input_shape=(32, 32, 3), pooling='avg')"
   ]
  },
  {
   "cell_type": "code",
   "execution_count": 18,
   "id": "06dac6d0",
   "metadata": {
    "execution": {
     "iopub.execute_input": "2025-04-06T09:09:54.936650Z",
     "iopub.status.busy": "2025-04-06T09:09:54.936340Z",
     "iopub.status.idle": "2025-04-06T09:09:54.939548Z",
     "shell.execute_reply": "2025-04-06T09:09:54.938885Z"
    },
    "papermill": {
     "duration": 0.015647,
     "end_time": "2025-04-06T09:09:54.940823",
     "exception": false,
     "start_time": "2025-04-06T09:09:54.925176",
     "status": "completed"
    },
    "tags": []
   },
   "outputs": [],
   "source": [
    "# base_model.get_layer('conv1').kernel_size = (3, 3)  # Change from (7,7) to (3,3)\n",
    "# base_model.get_layer('conv1').strides = (1, 1)     # Change from (2,2) to (1,1)"
   ]
  },
  {
   "cell_type": "code",
   "execution_count": 19,
   "id": "181e34d6",
   "metadata": {
    "execution": {
     "iopub.execute_input": "2025-04-06T09:09:54.962602Z",
     "iopub.status.busy": "2025-04-06T09:09:54.962363Z",
     "iopub.status.idle": "2025-04-06T09:09:54.967918Z",
     "shell.execute_reply": "2025-04-06T09:09:54.967296Z"
    },
    "papermill": {
     "duration": 0.01762,
     "end_time": "2025-04-06T09:09:54.969272",
     "exception": false,
     "start_time": "2025-04-06T09:09:54.951652",
     "status": "completed"
    },
    "tags": []
   },
   "outputs": [],
   "source": [
    "# freeze the base layers\n",
    "base_model.trainable = False"
   ]
  },
  {
   "cell_type": "code",
   "execution_count": 20,
   "id": "64813d87",
   "metadata": {
    "execution": {
     "iopub.execute_input": "2025-04-06T09:09:54.990426Z",
     "iopub.status.busy": "2025-04-06T09:09:54.990197Z",
     "iopub.status.idle": "2025-04-06T09:09:55.014458Z",
     "shell.execute_reply": "2025-04-06T09:09:55.013843Z"
    },
    "papermill": {
     "duration": 0.035995,
     "end_time": "2025-04-06T09:09:55.015608",
     "exception": false,
     "start_time": "2025-04-06T09:09:54.979613",
     "status": "completed"
    },
    "tags": []
   },
   "outputs": [],
   "source": [
    "# build our model\n",
    "import tensorflow as tf\n",
    "from tensorflow.keras import layers, models\n",
    "\n",
    "model = models.Sequential([\n",
    "    base_model,\n",
    "    layers.Dense(256, activation = 'relu'),\n",
    "    layers.Dense(10, activation = 'softmax')\n",
    "])"
   ]
  },
  {
   "cell_type": "code",
   "execution_count": 21,
   "id": "e64ae363",
   "metadata": {
    "execution": {
     "iopub.execute_input": "2025-04-06T09:09:55.036551Z",
     "iopub.status.busy": "2025-04-06T09:09:55.036347Z",
     "iopub.status.idle": "2025-04-06T09:09:55.046848Z",
     "shell.execute_reply": "2025-04-06T09:09:55.046291Z"
    },
    "papermill": {
     "duration": 0.022024,
     "end_time": "2025-04-06T09:09:55.047964",
     "exception": false,
     "start_time": "2025-04-06T09:09:55.025940",
     "status": "completed"
    },
    "tags": []
   },
   "outputs": [],
   "source": [
    "model.compile(optimizer= 'adam', loss='sparse_categorical_crossentropy', metrics=['accuracy'])"
   ]
  },
  {
   "cell_type": "code",
   "execution_count": 22,
   "id": "d43095a0",
   "metadata": {
    "execution": {
     "iopub.execute_input": "2025-04-06T09:09:55.068464Z",
     "iopub.status.busy": "2025-04-06T09:09:55.068265Z",
     "iopub.status.idle": "2025-04-06T09:09:55.075018Z",
     "shell.execute_reply": "2025-04-06T09:09:55.074389Z"
    },
    "papermill": {
     "duration": 0.018251,
     "end_time": "2025-04-06T09:09:55.076330",
     "exception": false,
     "start_time": "2025-04-06T09:09:55.058079",
     "status": "completed"
    },
    "tags": []
   },
   "outputs": [],
   "source": [
    "from tensorflow.keras.callbacks import ModelCheckpoint\n",
    "\n",
    "checkpoint_callback = ModelCheckpoint(\n",
    "    filepath='/kaggle/working/best_model.keras',  # Filepath to save the model\n",
    "    monitor='val_loss',  # Metric to monitor\n",
    "    save_best_only=True,  # Save only the best model\n",
    "    save_weights_only=False,  # Save the full model\n",
    "    mode='min',  # Save the model with the minimum value of the monitored metric\n",
    "    verbose=3  # Verbosity mode, 0 or 1\n",
    ")"
   ]
  },
  {
   "cell_type": "code",
   "execution_count": 23,
   "id": "f5f30e28",
   "metadata": {
    "execution": {
     "iopub.execute_input": "2025-04-06T09:09:55.096582Z",
     "iopub.status.busy": "2025-04-06T09:09:55.096383Z",
     "iopub.status.idle": "2025-04-06T09:12:51.885751Z",
     "shell.execute_reply": "2025-04-06T09:12:51.884715Z"
    },
    "papermill": {
     "duration": 176.80135,
     "end_time": "2025-04-06T09:12:51.887404",
     "exception": false,
     "start_time": "2025-04-06T09:09:55.086054",
     "status": "completed"
    },
    "tags": []
   },
   "outputs": [
    {
     "name": "stdout",
     "output_type": "stream",
     "text": [
      "Epoch 1/15\n",
      "\u001b[1m1563/1563\u001b[0m \u001b[32m━━━━━━━━━━━━━━━━━━━━\u001b[0m\u001b[37m\u001b[0m \u001b[1m0s\u001b[0m 8ms/step - accuracy: 0.5021 - loss: 1.5262\n",
      "Epoch 1: val_loss improved from inf to 1.20615, saving model to /kaggle/working/best_model.keras\n",
      "\u001b[1m1563/1563\u001b[0m \u001b[32m━━━━━━━━━━━━━━━━━━━━\u001b[0m\u001b[37m\u001b[0m \u001b[1m29s\u001b[0m 11ms/step - accuracy: 0.5022 - loss: 1.5261 - val_accuracy: 0.5703 - val_loss: 1.2062\n",
      "Epoch 2/15\n",
      "\u001b[1m1559/1563\u001b[0m \u001b[32m━━━━━━━━━━━━━━━━━━━\u001b[0m\u001b[37m━\u001b[0m \u001b[1m0s\u001b[0m 7ms/step - accuracy: 0.6259 - loss: 1.0492\n",
      "Epoch 2: val_loss improved from 1.20615 to 1.05427, saving model to /kaggle/working/best_model.keras\n",
      "\u001b[1m1563/1563\u001b[0m \u001b[32m━━━━━━━━━━━━━━━━━━━━\u001b[0m\u001b[37m\u001b[0m \u001b[1m11s\u001b[0m 7ms/step - accuracy: 0.6259 - loss: 1.0492 - val_accuracy: 0.6328 - val_loss: 1.0543\n",
      "Epoch 3/15\n",
      "\u001b[1m1563/1563\u001b[0m \u001b[32m━━━━━━━━━━━━━━━━━━━━\u001b[0m\u001b[37m\u001b[0m \u001b[1m0s\u001b[0m 7ms/step - accuracy: 0.6595 - loss: 0.9550\n",
      "Epoch 3: val_loss did not improve from 1.05427\n",
      "\u001b[1m1563/1563\u001b[0m \u001b[32m━━━━━━━━━━━━━━━━━━━━\u001b[0m\u001b[37m\u001b[0m \u001b[1m10s\u001b[0m 7ms/step - accuracy: 0.6595 - loss: 0.9551 - val_accuracy: 0.6250 - val_loss: 1.0764\n",
      "Epoch 4/15\n",
      "\u001b[1m1556/1563\u001b[0m \u001b[32m━━━━━━━━━━━━━━━━━━━\u001b[0m\u001b[37m━\u001b[0m \u001b[1m0s\u001b[0m 7ms/step - accuracy: 0.6876 - loss: 0.8787\n",
      "Epoch 4: val_loss did not improve from 1.05427\n",
      "\u001b[1m1563/1563\u001b[0m \u001b[32m━━━━━━━━━━━━━━━━━━━━\u001b[0m\u001b[37m\u001b[0m \u001b[1m11s\u001b[0m 7ms/step - accuracy: 0.6875 - loss: 0.8789 - val_accuracy: 0.6211 - val_loss: 1.1601\n",
      "Epoch 5/15\n",
      "\u001b[1m1557/1563\u001b[0m \u001b[32m━━━━━━━━━━━━━━━━━━━\u001b[0m\u001b[37m━\u001b[0m \u001b[1m0s\u001b[0m 7ms/step - accuracy: 0.7101 - loss: 0.8128\n",
      "Epoch 5: val_loss did not improve from 1.05427\n",
      "\u001b[1m1563/1563\u001b[0m \u001b[32m━━━━━━━━━━━━━━━━━━━━\u001b[0m\u001b[37m\u001b[0m \u001b[1m10s\u001b[0m 7ms/step - accuracy: 0.7101 - loss: 0.8129 - val_accuracy: 0.5820 - val_loss: 1.2084\n",
      "Epoch 6/15\n",
      "\u001b[1m1559/1563\u001b[0m \u001b[32m━━━━━━━━━━━━━━━━━━━\u001b[0m\u001b[37m━\u001b[0m \u001b[1m0s\u001b[0m 7ms/step - accuracy: 0.7320 - loss: 0.7452\n",
      "Epoch 6: val_loss improved from 1.05427 to 1.03150, saving model to /kaggle/working/best_model.keras\n",
      "\u001b[1m1563/1563\u001b[0m \u001b[32m━━━━━━━━━━━━━━━━━━━━\u001b[0m\u001b[37m\u001b[0m \u001b[1m11s\u001b[0m 7ms/step - accuracy: 0.7320 - loss: 0.7453 - val_accuracy: 0.6445 - val_loss: 1.0315\n",
      "Epoch 7/15\n",
      "\u001b[1m1560/1563\u001b[0m \u001b[32m━━━━━━━━━━━━━━━━━━━\u001b[0m\u001b[37m━\u001b[0m \u001b[1m0s\u001b[0m 7ms/step - accuracy: 0.7575 - loss: 0.6819\n",
      "Epoch 7: val_loss did not improve from 1.03150\n",
      "\u001b[1m1563/1563\u001b[0m \u001b[32m━━━━━━━━━━━━━━━━━━━━\u001b[0m\u001b[37m\u001b[0m \u001b[1m11s\u001b[0m 7ms/step - accuracy: 0.7574 - loss: 0.6820 - val_accuracy: 0.6172 - val_loss: 1.2507\n",
      "Epoch 8/15\n",
      "\u001b[1m1556/1563\u001b[0m \u001b[32m━━━━━━━━━━━━━━━━━━━\u001b[0m\u001b[37m━\u001b[0m \u001b[1m0s\u001b[0m 7ms/step - accuracy: 0.7801 - loss: 0.6149\n",
      "Epoch 8: val_loss did not improve from 1.03150\n",
      "\u001b[1m1563/1563\u001b[0m \u001b[32m━━━━━━━━━━━━━━━━━━━━\u001b[0m\u001b[37m\u001b[0m \u001b[1m10s\u001b[0m 7ms/step - accuracy: 0.7801 - loss: 0.6151 - val_accuracy: 0.5781 - val_loss: 1.6912\n",
      "Epoch 9/15\n",
      "\u001b[1m1561/1563\u001b[0m \u001b[32m━━━━━━━━━━━━━━━━━━━\u001b[0m\u001b[37m━\u001b[0m \u001b[1m0s\u001b[0m 6ms/step - accuracy: 0.7977 - loss: 0.5639\n",
      "Epoch 9: val_loss did not improve from 1.03150\n",
      "\u001b[1m1563/1563\u001b[0m \u001b[32m━━━━━━━━━━━━━━━━━━━━\u001b[0m\u001b[37m\u001b[0m \u001b[1m10s\u001b[0m 7ms/step - accuracy: 0.7977 - loss: 0.5640 - val_accuracy: 0.5781 - val_loss: 1.4079\n",
      "Epoch 10/15\n",
      "\u001b[1m1560/1563\u001b[0m \u001b[32m━━━━━━━━━━━━━━━━━━━\u001b[0m\u001b[37m━\u001b[0m \u001b[1m0s\u001b[0m 7ms/step - accuracy: 0.8123 - loss: 0.5284\n",
      "Epoch 10: val_loss did not improve from 1.03150\n",
      "\u001b[1m1563/1563\u001b[0m \u001b[32m━━━━━━━━━━━━━━━━━━━━\u001b[0m\u001b[37m\u001b[0m \u001b[1m10s\u001b[0m 7ms/step - accuracy: 0.8122 - loss: 0.5285 - val_accuracy: 0.5820 - val_loss: 1.6321\n",
      "Epoch 11/15\n",
      "\u001b[1m1559/1563\u001b[0m \u001b[32m━━━━━━━━━━━━━━━━━━━\u001b[0m\u001b[37m━\u001b[0m \u001b[1m0s\u001b[0m 7ms/step - accuracy: 0.8292 - loss: 0.4812\n",
      "Epoch 11: val_loss did not improve from 1.03150\n",
      "\u001b[1m1563/1563\u001b[0m \u001b[32m━━━━━━━━━━━━━━━━━━━━\u001b[0m\u001b[37m\u001b[0m \u001b[1m10s\u001b[0m 7ms/step - accuracy: 0.8291 - loss: 0.4813 - val_accuracy: 0.6328 - val_loss: 1.4173\n",
      "Epoch 12/15\n",
      "\u001b[1m1559/1563\u001b[0m \u001b[32m━━━━━━━━━━━━━━━━━━━\u001b[0m\u001b[37m━\u001b[0m \u001b[1m0s\u001b[0m 7ms/step - accuracy: 0.8419 - loss: 0.4491\n",
      "Epoch 12: val_loss did not improve from 1.03150\n",
      "\u001b[1m1563/1563\u001b[0m \u001b[32m━━━━━━━━━━━━━━━━━━━━\u001b[0m\u001b[37m\u001b[0m \u001b[1m10s\u001b[0m 7ms/step - accuracy: 0.8418 - loss: 0.4492 - val_accuracy: 0.6680 - val_loss: 1.1496\n",
      "Epoch 13/15\n",
      "\u001b[1m1556/1563\u001b[0m \u001b[32m━━━━━━━━━━━━━━━━━━━\u001b[0m\u001b[37m━\u001b[0m \u001b[1m0s\u001b[0m 7ms/step - accuracy: 0.8491 - loss: 0.4219\n",
      "Epoch 13: val_loss did not improve from 1.03150\n",
      "\u001b[1m1563/1563\u001b[0m \u001b[32m━━━━━━━━━━━━━━━━━━━━\u001b[0m\u001b[37m\u001b[0m \u001b[1m10s\u001b[0m 7ms/step - accuracy: 0.8491 - loss: 0.4220 - val_accuracy: 0.5938 - val_loss: 1.8272\n",
      "Epoch 14/15\n",
      "\u001b[1m1557/1563\u001b[0m \u001b[32m━━━━━━━━━━━━━━━━━━━\u001b[0m\u001b[37m━\u001b[0m \u001b[1m0s\u001b[0m 7ms/step - accuracy: 0.8687 - loss: 0.3756\n",
      "Epoch 14: val_loss did not improve from 1.03150\n",
      "\u001b[1m1563/1563\u001b[0m \u001b[32m━━━━━━━━━━━━━━━━━━━━\u001b[0m\u001b[37m\u001b[0m \u001b[1m10s\u001b[0m 7ms/step - accuracy: 0.8686 - loss: 0.3757 - val_accuracy: 0.6133 - val_loss: 1.6709\n",
      "Epoch 15/15\n",
      "\u001b[1m1562/1563\u001b[0m \u001b[32m━━━━━━━━━━━━━━━━━━━\u001b[0m\u001b[37m━\u001b[0m \u001b[1m0s\u001b[0m 7ms/step - accuracy: 0.8777 - loss: 0.3461\n",
      "Epoch 15: val_loss did not improve from 1.03150\n",
      "\u001b[1m1563/1563\u001b[0m \u001b[32m━━━━━━━━━━━━━━━━━━━━\u001b[0m\u001b[37m\u001b[0m \u001b[1m10s\u001b[0m 7ms/step - accuracy: 0.8776 - loss: 0.3461 - val_accuracy: 0.5703 - val_loss: 2.1611\n"
     ]
    }
   ],
   "source": [
    "history = model.fit(\n",
    "    x_train, y_train,\n",
    "    batch_size=32,\n",
    "    epochs = 15,\n",
    "    validation_data = (x_test, y_test),\n",
    "    validation_steps = 8,\n",
    "    callbacks=[checkpoint_callback]\n",
    ")"
   ]
  },
  {
   "cell_type": "code",
   "execution_count": 24,
   "id": "dbd1b12a",
   "metadata": {
    "execution": {
     "iopub.execute_input": "2025-04-06T09:12:52.196708Z",
     "iopub.status.busy": "2025-04-06T09:12:52.196374Z",
     "iopub.status.idle": "2025-04-06T09:12:55.775405Z",
     "shell.execute_reply": "2025-04-06T09:12:55.774685Z"
    },
    "papermill": {
     "duration": 3.734503,
     "end_time": "2025-04-06T09:12:55.776640",
     "exception": false,
     "start_time": "2025-04-06T09:12:52.042137",
     "status": "completed"
    },
    "tags": []
   },
   "outputs": [
    {
     "name": "stdout",
     "output_type": "stream",
     "text": [
      "\u001b[1m313/313\u001b[0m \u001b[32m━━━━━━━━━━━━━━━━━━━━\u001b[0m\u001b[37m\u001b[0m \u001b[1m3s\u001b[0m 11ms/step - accuracy: 0.5838 - loss: 1.9064\n"
     ]
    }
   ],
   "source": [
    "loss, acc = model.evaluate(x_test, y_test)"
   ]
  },
  {
   "cell_type": "markdown",
   "id": "ce16956a",
   "metadata": {
    "papermill": {
     "duration": 0.152025,
     "end_time": "2025-04-06T09:12:56.082347",
     "exception": false,
     "start_time": "2025-04-06T09:12:55.930322",
     "status": "completed"
    },
    "tags": []
   },
   "source": [
    "## Try the same model without freezing the base layer:"
   ]
  },
  {
   "cell_type": "code",
   "execution_count": 25,
   "id": "5eb1f99d",
   "metadata": {
    "execution": {
     "iopub.execute_input": "2025-04-06T09:12:56.392709Z",
     "iopub.status.busy": "2025-04-06T09:12:56.392399Z",
     "iopub.status.idle": "2025-04-06T09:12:56.398464Z",
     "shell.execute_reply": "2025-04-06T09:12:56.397756Z"
    },
    "papermill": {
     "duration": 0.162634,
     "end_time": "2025-04-06T09:12:56.399702",
     "exception": false,
     "start_time": "2025-04-06T09:12:56.237068",
     "status": "completed"
    },
    "tags": []
   },
   "outputs": [],
   "source": [
    "base_model.trainable = True"
   ]
  },
  {
   "cell_type": "code",
   "execution_count": 26,
   "id": "9d9a741e",
   "metadata": {
    "execution": {
     "iopub.execute_input": "2025-04-06T09:12:56.700885Z",
     "iopub.status.busy": "2025-04-06T09:12:56.700535Z",
     "iopub.status.idle": "2025-04-06T09:12:56.722001Z",
     "shell.execute_reply": "2025-04-06T09:12:56.721350Z"
    },
    "papermill": {
     "duration": 0.176234,
     "end_time": "2025-04-06T09:12:56.723207",
     "exception": false,
     "start_time": "2025-04-06T09:12:56.546973",
     "status": "completed"
    },
    "tags": []
   },
   "outputs": [],
   "source": [
    "model2 = models.Sequential([\n",
    "    base_model,\n",
    "    layers.Dense(256, activation = 'relu'),\n",
    "    layers.Dense(10, activation = 'softmax')\n",
    "])"
   ]
  },
  {
   "cell_type": "code",
   "execution_count": 27,
   "id": "7ad3b24b",
   "metadata": {
    "execution": {
     "iopub.execute_input": "2025-04-06T09:12:57.032650Z",
     "iopub.status.busy": "2025-04-06T09:12:57.032342Z",
     "iopub.status.idle": "2025-04-06T09:12:57.040514Z",
     "shell.execute_reply": "2025-04-06T09:12:57.039874Z"
    },
    "papermill": {
     "duration": 0.164762,
     "end_time": "2025-04-06T09:12:57.042146",
     "exception": false,
     "start_time": "2025-04-06T09:12:56.877384",
     "status": "completed"
    },
    "tags": []
   },
   "outputs": [],
   "source": [
    "model2.compile(optimizer= 'adam', loss='sparse_categorical_crossentropy', metrics=['accuracy'])"
   ]
  },
  {
   "cell_type": "code",
   "execution_count": 28,
   "id": "dc0f79a7",
   "metadata": {
    "execution": {
     "iopub.execute_input": "2025-04-06T09:12:57.409659Z",
     "iopub.status.busy": "2025-04-06T09:12:57.409358Z",
     "iopub.status.idle": "2025-04-06T09:12:57.413013Z",
     "shell.execute_reply": "2025-04-06T09:12:57.412271Z"
    },
    "papermill": {
     "duration": 0.205014,
     "end_time": "2025-04-06T09:12:57.414320",
     "exception": false,
     "start_time": "2025-04-06T09:12:57.209306",
     "status": "completed"
    },
    "tags": []
   },
   "outputs": [],
   "source": [
    "checkpoint_callback = ModelCheckpoint(\n",
    "    filepath='/kaggle/working/best_model2.keras',  # Filepath to save the model\n",
    "    monitor='val_loss',  # Metric to monitor\n",
    "    save_best_only=True,  # Save only the best model\n",
    "    save_weights_only=False,  # Save the full model\n",
    "    mode='min',  # Save the model with the minimum value of the monitored metric\n",
    "    verbose=3  # Verbosity mode, 0 or 1\n",
    ")"
   ]
  },
  {
   "cell_type": "code",
   "execution_count": 29,
   "id": "cd98c8f5",
   "metadata": {
    "execution": {
     "iopub.execute_input": "2025-04-06T09:12:57.723033Z",
     "iopub.status.busy": "2025-04-06T09:12:57.722686Z",
     "iopub.status.idle": "2025-04-06T09:24:56.059266Z",
     "shell.execute_reply": "2025-04-06T09:24:56.058501Z"
    },
    "papermill": {
     "duration": 718.491985,
     "end_time": "2025-04-06T09:24:56.060479",
     "exception": false,
     "start_time": "2025-04-06T09:12:57.568494",
     "status": "completed"
    },
    "tags": []
   },
   "outputs": [
    {
     "name": "stdout",
     "output_type": "stream",
     "text": [
      "Epoch 1/15\n",
      "\u001b[1m1563/1563\u001b[0m \u001b[32m━━━━━━━━━━━━━━━━━━━━\u001b[0m\u001b[37m\u001b[0m \u001b[1m0s\u001b[0m 38ms/step - accuracy: 0.4672 - loss: 1.6098\n",
      "Epoch 1: val_loss improved from inf to 2.10919, saving model to /kaggle/working/best_model2.keras\n",
      "\u001b[1m1563/1563\u001b[0m \u001b[32m━━━━━━━━━━━━━━━━━━━━\u001b[0m\u001b[37m\u001b[0m \u001b[1m114s\u001b[0m 41ms/step - accuracy: 0.4672 - loss: 1.6097 - val_accuracy: 0.3359 - val_loss: 2.1092\n",
      "Epoch 2/15\n",
      "\u001b[1m1562/1563\u001b[0m \u001b[32m━━━━━━━━━━━━━━━━━━━\u001b[0m\u001b[37m━\u001b[0m \u001b[1m0s\u001b[0m 27ms/step - accuracy: 0.5433 - loss: 1.3270\n",
      "Epoch 2: val_loss improved from 2.10919 to 1.37781, saving model to /kaggle/working/best_model2.keras\n",
      "\u001b[1m1563/1563\u001b[0m \u001b[32m━━━━━━━━━━━━━━━━━━━━\u001b[0m\u001b[37m\u001b[0m \u001b[1m45s\u001b[0m 29ms/step - accuracy: 0.5434 - loss: 1.3268 - val_accuracy: 0.5508 - val_loss: 1.3778\n",
      "Epoch 3/15\n",
      "\u001b[1m1562/1563\u001b[0m \u001b[32m━━━━━━━━━━━━━━━━━━━\u001b[0m\u001b[37m━\u001b[0m \u001b[1m0s\u001b[0m 27ms/step - accuracy: 0.6203 - loss: 1.1020\n",
      "Epoch 3: val_loss improved from 1.37781 to 1.24465, saving model to /kaggle/working/best_model2.keras\n",
      "\u001b[1m1563/1563\u001b[0m \u001b[32m━━━━━━━━━━━━━━━━━━━━\u001b[0m\u001b[37m\u001b[0m \u001b[1m45s\u001b[0m 29ms/step - accuracy: 0.6203 - loss: 1.1021 - val_accuracy: 0.5742 - val_loss: 1.2446\n",
      "Epoch 4/15\n",
      "\u001b[1m1563/1563\u001b[0m \u001b[32m━━━━━━━━━━━━━━━━━━━━\u001b[0m\u001b[37m\u001b[0m \u001b[1m0s\u001b[0m 27ms/step - accuracy: 0.5840 - loss: 1.1863\n",
      "Epoch 4: val_loss did not improve from 1.24465\n",
      "\u001b[1m1563/1563\u001b[0m \u001b[32m━━━━━━━━━━━━━━━━━━━━\u001b[0m\u001b[37m\u001b[0m \u001b[1m43s\u001b[0m 27ms/step - accuracy: 0.5841 - loss: 1.1863 - val_accuracy: 0.4258 - val_loss: 1.6328\n",
      "Epoch 5/15\n",
      "\u001b[1m1561/1563\u001b[0m \u001b[32m━━━━━━━━━━━━━━━━━━━\u001b[0m\u001b[37m━\u001b[0m \u001b[1m0s\u001b[0m 27ms/step - accuracy: 0.6349 - loss: 1.0463\n",
      "Epoch 5: val_loss improved from 1.24465 to 0.97010, saving model to /kaggle/working/best_model2.keras\n",
      "\u001b[1m1563/1563\u001b[0m \u001b[32m━━━━━━━━━━━━━━━━━━━━\u001b[0m\u001b[37m\u001b[0m \u001b[1m44s\u001b[0m 28ms/step - accuracy: 0.6349 - loss: 1.0463 - val_accuracy: 0.6602 - val_loss: 0.9701\n",
      "Epoch 6/15\n",
      "\u001b[1m1562/1563\u001b[0m \u001b[32m━━━━━━━━━━━━━━━━━━━\u001b[0m\u001b[37m━\u001b[0m \u001b[1m0s\u001b[0m 27ms/step - accuracy: 0.7052 - loss: 0.8542\n",
      "Epoch 6: val_loss did not improve from 0.97010\n",
      "\u001b[1m1563/1563\u001b[0m \u001b[32m━━━━━━━━━━━━━━━━━━━━\u001b[0m\u001b[37m\u001b[0m \u001b[1m43s\u001b[0m 27ms/step - accuracy: 0.7052 - loss: 0.8543 - val_accuracy: 0.5898 - val_loss: 1.2599\n",
      "Epoch 7/15\n",
      "\u001b[1m1563/1563\u001b[0m \u001b[32m━━━━━━━━━━━━━━━━━━━━\u001b[0m\u001b[37m\u001b[0m \u001b[1m0s\u001b[0m 27ms/step - accuracy: 0.6814 - loss: 0.9242\n",
      "Epoch 7: val_loss did not improve from 0.97010\n",
      "\u001b[1m1563/1563\u001b[0m \u001b[32m━━━━━━━━━━━━━━━━━━━━\u001b[0m\u001b[37m\u001b[0m \u001b[1m43s\u001b[0m 27ms/step - accuracy: 0.6814 - loss: 0.9242 - val_accuracy: 0.6562 - val_loss: 0.9783\n",
      "Epoch 8/15\n",
      "\u001b[1m1562/1563\u001b[0m \u001b[32m━━━━━━━━━━━━━━━━━━━\u001b[0m\u001b[37m━\u001b[0m \u001b[1m0s\u001b[0m 27ms/step - accuracy: 0.7036 - loss: 0.8542\n",
      "Epoch 8: val_loss did not improve from 0.97010\n",
      "\u001b[1m1563/1563\u001b[0m \u001b[32m━━━━━━━━━━━━━━━━━━━━\u001b[0m\u001b[37m\u001b[0m \u001b[1m43s\u001b[0m 27ms/step - accuracy: 0.7037 - loss: 0.8542 - val_accuracy: 0.6562 - val_loss: 1.0526\n",
      "Epoch 9/15\n",
      "\u001b[1m1563/1563\u001b[0m \u001b[32m━━━━━━━━━━━━━━━━━━━━\u001b[0m\u001b[37m\u001b[0m \u001b[1m0s\u001b[0m 27ms/step - accuracy: 0.7060 - loss: 0.8498\n",
      "Epoch 9: val_loss did not improve from 0.97010\n",
      "\u001b[1m1563/1563\u001b[0m \u001b[32m━━━━━━━━━━━━━━━━━━━━\u001b[0m\u001b[37m\u001b[0m \u001b[1m43s\u001b[0m 27ms/step - accuracy: 0.7060 - loss: 0.8498 - val_accuracy: 0.6602 - val_loss: 1.0075\n",
      "Epoch 10/15\n",
      "\u001b[1m1562/1563\u001b[0m \u001b[32m━━━━━━━━━━━━━━━━━━━\u001b[0m\u001b[37m━\u001b[0m \u001b[1m0s\u001b[0m 27ms/step - accuracy: 0.7494 - loss: 0.7323\n",
      "Epoch 10: val_loss did not improve from 0.97010\n",
      "\u001b[1m1563/1563\u001b[0m \u001b[32m━━━━━━━━━━━━━━━━━━━━\u001b[0m\u001b[37m\u001b[0m \u001b[1m42s\u001b[0m 27ms/step - accuracy: 0.7494 - loss: 0.7323 - val_accuracy: 0.6523 - val_loss: 1.0351\n",
      "Epoch 11/15\n",
      "\u001b[1m1562/1563\u001b[0m \u001b[32m━━━━━━━━━━━━━━━━━━━\u001b[0m\u001b[37m━\u001b[0m \u001b[1m0s\u001b[0m 27ms/step - accuracy: 0.7397 - loss: 0.7445\n",
      "Epoch 11: val_loss did not improve from 0.97010\n",
      "\u001b[1m1563/1563\u001b[0m \u001b[32m━━━━━━━━━━━━━━━━━━━━\u001b[0m\u001b[37m\u001b[0m \u001b[1m43s\u001b[0m 27ms/step - accuracy: 0.7397 - loss: 0.7447 - val_accuracy: 0.5156 - val_loss: 1.4043\n",
      "Epoch 12/15\n",
      "\u001b[1m1561/1563\u001b[0m \u001b[32m━━━━━━━━━━━━━━━━━━━\u001b[0m\u001b[37m━\u001b[0m \u001b[1m0s\u001b[0m 27ms/step - accuracy: 0.7058 - loss: 0.8513\n",
      "Epoch 12: val_loss did not improve from 0.97010\n",
      "\u001b[1m1563/1563\u001b[0m \u001b[32m━━━━━━━━━━━━━━━━━━━━\u001b[0m\u001b[37m\u001b[0m \u001b[1m42s\u001b[0m 27ms/step - accuracy: 0.7057 - loss: 0.8513 - val_accuracy: 0.4922 - val_loss: 4.8765\n",
      "Epoch 13/15\n",
      "\u001b[1m1562/1563\u001b[0m \u001b[32m━━━━━━━━━━━━━━━━━━━\u001b[0m\u001b[37m━\u001b[0m \u001b[1m0s\u001b[0m 27ms/step - accuracy: 0.6557 - loss: 0.9872\n",
      "Epoch 13: val_loss did not improve from 0.97010\n",
      "\u001b[1m1563/1563\u001b[0m \u001b[32m━━━━━━━━━━━━━━━━━━━━\u001b[0m\u001b[37m\u001b[0m \u001b[1m43s\u001b[0m 27ms/step - accuracy: 0.6556 - loss: 0.9873 - val_accuracy: 0.5234 - val_loss: 1.3677\n",
      "Epoch 14/15\n",
      "\u001b[1m1563/1563\u001b[0m \u001b[32m━━━━━━━━━━━━━━━━━━━━\u001b[0m\u001b[37m\u001b[0m \u001b[1m0s\u001b[0m 27ms/step - accuracy: 0.5910 - loss: 1.1598\n",
      "Epoch 14: val_loss did not improve from 0.97010\n",
      "\u001b[1m1563/1563\u001b[0m \u001b[32m━━━━━━━━━━━━━━━━━━━━\u001b[0m\u001b[37m\u001b[0m \u001b[1m43s\u001b[0m 28ms/step - accuracy: 0.5910 - loss: 1.1597 - val_accuracy: 0.6641 - val_loss: 1.0335\n",
      "Epoch 15/15\n",
      "\u001b[1m1563/1563\u001b[0m \u001b[32m━━━━━━━━━━━━━━━━━━━━\u001b[0m\u001b[37m\u001b[0m \u001b[1m0s\u001b[0m 27ms/step - accuracy: 0.7061 - loss: 0.8369\n",
      "Epoch 15: val_loss did not improve from 0.97010\n",
      "\u001b[1m1563/1563\u001b[0m \u001b[32m━━━━━━━━━━━━━━━━━━━━\u001b[0m\u001b[37m\u001b[0m \u001b[1m43s\u001b[0m 27ms/step - accuracy: 0.7061 - loss: 0.8370 - val_accuracy: 0.6719 - val_loss: 1.0281\n"
     ]
    }
   ],
   "source": [
    "history = model2.fit(\n",
    "    x_train, y_train,\n",
    "    batch_size=32,\n",
    "    epochs = 15,\n",
    "    validation_data = (x_test, y_test),\n",
    "    validation_steps = 8,\n",
    "    callbacks=[checkpoint_callback]\n",
    ")"
   ]
  },
  {
   "cell_type": "code",
   "execution_count": 30,
   "id": "416f9fb9",
   "metadata": {
    "execution": {
     "iopub.execute_input": "2025-04-06T09:24:57.677927Z",
     "iopub.status.busy": "2025-04-06T09:24:57.677535Z",
     "iopub.status.idle": "2025-04-06T09:25:01.293259Z",
     "shell.execute_reply": "2025-04-06T09:25:01.292282Z"
    },
    "papermill": {
     "duration": 4.42539,
     "end_time": "2025-04-06T09:25:01.294868",
     "exception": false,
     "start_time": "2025-04-06T09:24:56.869478",
     "status": "completed"
    },
    "tags": []
   },
   "outputs": [
    {
     "name": "stdout",
     "output_type": "stream",
     "text": [
      "\u001b[1m313/313\u001b[0m \u001b[32m━━━━━━━━━━━━━━━━━━━━\u001b[0m\u001b[37m\u001b[0m \u001b[1m3s\u001b[0m 11ms/step - accuracy: 0.6943 - loss: 0.9038\n"
     ]
    }
   ],
   "source": [
    "loss, acc = model2.evaluate(x_test, y_test)"
   ]
  },
  {
   "cell_type": "markdown",
   "id": "f9864665",
   "metadata": {
    "papermill": {
     "duration": 0.785525,
     "end_time": "2025-04-06T09:25:02.850874",
     "exception": false,
     "start_time": "2025-04-06T09:25:02.065349",
     "status": "completed"
    },
    "tags": []
   },
   "source": [
    "## code from AI:"
   ]
  },
  {
   "cell_type": "code",
   "execution_count": 31,
   "id": "988ee059",
   "metadata": {
    "execution": {
     "iopub.execute_input": "2025-04-06T09:25:04.354017Z",
     "iopub.status.busy": "2025-04-06T09:25:04.353668Z",
     "iopub.status.idle": "2025-04-06T09:34:25.111733Z",
     "shell.execute_reply": "2025-04-06T09:34:25.110768Z"
    },
    "papermill": {
     "duration": 562.729969,
     "end_time": "2025-04-06T09:34:26.304428",
     "exception": false,
     "start_time": "2025-04-06T09:25:03.574459",
     "status": "completed"
    },
    "tags": []
   },
   "outputs": [
    {
     "name": "stdout",
     "output_type": "stream",
     "text": [
      "Epoch 1/10\n",
      "\u001b[1m782/782\u001b[0m \u001b[32m━━━━━━━━━━━━━━━━━━━━\u001b[0m\u001b[37m\u001b[0m \u001b[1m86s\u001b[0m 82ms/step - accuracy: 0.4614 - loss: 1.5242 - val_accuracy: 0.4988 - val_loss: 1.7276\n",
      "Epoch 2/10\n",
      "\u001b[1m782/782\u001b[0m \u001b[32m━━━━━━━━━━━━━━━━━━━━\u001b[0m\u001b[37m\u001b[0m \u001b[1m52s\u001b[0m 67ms/step - accuracy: 0.7283 - loss: 0.7736 - val_accuracy: 0.5057 - val_loss: 1.8129\n",
      "Epoch 3/10\n",
      "\u001b[1m782/782\u001b[0m \u001b[32m━━━━━━━━━━━━━━━━━━━━\u001b[0m\u001b[37m\u001b[0m \u001b[1m52s\u001b[0m 66ms/step - accuracy: 0.8064 - loss: 0.5515 - val_accuracy: 0.6475 - val_loss: 1.1380\n",
      "Epoch 4/10\n",
      "\u001b[1m782/782\u001b[0m \u001b[32m━━━━━━━━━━━━━━━━━━━━\u001b[0m\u001b[37m\u001b[0m \u001b[1m52s\u001b[0m 67ms/step - accuracy: 0.8534 - loss: 0.4211 - val_accuracy: 0.6184 - val_loss: 1.2815\n",
      "Epoch 5/10\n",
      "\u001b[1m782/782\u001b[0m \u001b[32m━━━━━━━━━━━━━━━━━━━━\u001b[0m\u001b[37m\u001b[0m \u001b[1m52s\u001b[0m 66ms/step - accuracy: 0.8896 - loss: 0.3189 - val_accuracy: 0.7473 - val_loss: 0.8241\n",
      "Epoch 6/10\n",
      "\u001b[1m782/782\u001b[0m \u001b[32m━━━━━━━━━━━━━━━━━━━━\u001b[0m\u001b[37m\u001b[0m \u001b[1m52s\u001b[0m 66ms/step - accuracy: 0.9224 - loss: 0.2221 - val_accuracy: 0.7716 - val_loss: 0.7609\n",
      "Epoch 7/10\n",
      "\u001b[1m782/782\u001b[0m \u001b[32m━━━━━━━━━━━━━━━━━━━━\u001b[0m\u001b[37m\u001b[0m \u001b[1m52s\u001b[0m 66ms/step - accuracy: 0.9458 - loss: 0.1534 - val_accuracy: 0.7611 - val_loss: 0.8659\n",
      "Epoch 8/10\n",
      "\u001b[1m782/782\u001b[0m \u001b[32m━━━━━━━━━━━━━━━━━━━━\u001b[0m\u001b[37m\u001b[0m \u001b[1m52s\u001b[0m 66ms/step - accuracy: 0.9594 - loss: 0.1169 - val_accuracy: 0.7807 - val_loss: 0.9689\n",
      "Epoch 9/10\n",
      "\u001b[1m782/782\u001b[0m \u001b[32m━━━━━━━━━━━━━━━━━━━━\u001b[0m\u001b[37m\u001b[0m \u001b[1m52s\u001b[0m 66ms/step - accuracy: 0.9667 - loss: 0.0939 - val_accuracy: 0.8059 - val_loss: 0.7736\n",
      "Epoch 10/10\n",
      "\u001b[1m782/782\u001b[0m \u001b[32m━━━━━━━━━━━━━━━━━━━━\u001b[0m\u001b[37m\u001b[0m \u001b[1m52s\u001b[0m 66ms/step - accuracy: 0.9779 - loss: 0.0624 - val_accuracy: 0.7916 - val_loss: 0.8880\n",
      "313/313 - 5s - 15ms/step - accuracy: 0.7916 - loss: 0.8880\n",
      "\n",
      "Test accuracy: 79.2%\n"
     ]
    }
   ],
   "source": [
    "from tensorflow.keras import layers, models, Sequential\n",
    "\n",
    "\n",
    "# Simple preprocessing (normalize to 0-1)\n",
    "x_train = x_train.astype('float32') / 255.0\n",
    "x_test = x_test.astype('float32') / 255.0\n",
    "\n",
    "# Define a simplified ResNet18-like model3\n",
    "def build_resnet18(input_shape=(32, 32, 3), num_classes=10):\n",
    "    def residual_block(x, filters, stride=1):\n",
    "        shortcut = x\n",
    "        \n",
    "        x = layers.Conv2D(filters, (3, 3), strides=stride, padding='same')(x)\n",
    "        x = layers.BatchNormalization()(x)\n",
    "        x = layers.ReLU()(x)\n",
    "        \n",
    "        x = layers.Conv2D(filters, (3, 3), padding='same')(x)\n",
    "        x = layers.BatchNormalization()(x)\n",
    "        \n",
    "        if stride != 1:\n",
    "            shortcut = layers.Conv2D(filters, (1, 1), strides=stride)(shortcut)\n",
    "            shortcut = layers.BatchNormalization()(shortcut)\n",
    "            \n",
    "        x = layers.Add()([x, shortcut])\n",
    "        x = layers.ReLU()(x)\n",
    "        return x\n",
    "    \n",
    "    inputs = layers.Input(shape=input_shape)\n",
    "    \n",
    "    # Initial conv layer\n",
    "    x = layers.Conv2D(64, (3, 3), padding='same')(inputs)\n",
    "    x = layers.BatchNormalization()(x)\n",
    "    x = layers.ReLU()(x)\n",
    "    \n",
    "    # Residual blocks\n",
    "    x = residual_block(x, 64)\n",
    "    x = residual_block(x, 64)\n",
    "    x = residual_block(x, 128, stride=2)\n",
    "    x = residual_block(x, 128)\n",
    "    x = residual_block(x, 256, stride=2)\n",
    "    x = residual_block(x, 256)\n",
    "    x = residual_block(x, 512, stride=2)\n",
    "    x = residual_block(x, 512)\n",
    "    \n",
    "    # Final layers\n",
    "    x = layers.GlobalAveragePooling2D()(x)\n",
    "    outputs = layers.Dense(num_classes, activation='softmax')(x)\n",
    "    \n",
    "    return models.Model(inputs, outputs)\n",
    "\n",
    "# Build and compile the model3\n",
    "model3 = build_resnet18()\n",
    "model3.compile(optimizer='adam',\n",
    "              loss='sparse_categorical_crossentropy',\n",
    "              metrics=['accuracy'])\n",
    "\n",
    "# Train the model3\n",
    "history = model3.fit(x_train, y_train,\n",
    "                    batch_size=64,\n",
    "                    epochs=10,\n",
    "                    validation_data=(x_test, y_test))\n",
    "\n",
    "# Evaluate\n",
    "test_loss, test_acc = model3.evaluate(x_test, y_test, verbose=2)\n",
    "print(f\"\\nTest accuracy: {test_acc*100:.1f}%\")"
   ]
  }
 ],
 "metadata": {
  "kaggle": {
   "accelerator": "nvidiaTeslaT4",
   "dataSources": [],
   "dockerImageVersionId": 30919,
   "isGpuEnabled": true,
   "isInternetEnabled": true,
   "language": "python",
   "sourceType": "notebook"
  },
  "kernelspec": {
   "display_name": "Python 3",
   "language": "python",
   "name": "python3"
  },
  "language_info": {
   "codemirror_mode": {
    "name": "ipython",
    "version": 3
   },
   "file_extension": ".py",
   "mimetype": "text/x-python",
   "name": "python",
   "nbconvert_exporter": "python",
   "pygments_lexer": "ipython3",
   "version": "3.10.12"
  },
  "papermill": {
   "default_parameters": {},
   "duration": 1509.416768,
   "end_time": "2025-04-06T09:34:31.458632",
   "environment_variables": {},
   "exception": null,
   "input_path": "__notebook__.ipynb",
   "output_path": "__notebook__.ipynb",
   "parameters": {},
   "start_time": "2025-04-06T09:09:22.041864",
   "version": "2.6.0"
  }
 },
 "nbformat": 4,
 "nbformat_minor": 5
}
